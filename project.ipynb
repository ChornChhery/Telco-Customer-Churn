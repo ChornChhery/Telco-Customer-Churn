{
 "cells": [
  {
   "cell_type": "markdown",
   "id": "1bc3a9d8",
   "metadata": {},
   "source": [
    "## Chhery Chorn 6520310203"
   ]
  },
  {
   "cell_type": "code",
   "execution_count": 1,
   "id": "faf4c76c",
   "metadata": {},
   "outputs": [],
   "source": [
    "import numpy as np\n",
    "import pandas as pd"
   ]
  },
  {
   "cell_type": "code",
   "execution_count": null,
   "id": "26b84671",
   "metadata": {},
   "outputs": [],
   "source": []
  }
 ],
 "metadata": {
  "kernelspec": {
   "display_name": "Python 3",
   "language": "python",
   "name": "python3"
  },
  "language_info": {
   "codemirror_mode": {
    "name": "ipython",
    "version": 3
   },
   "file_extension": ".py",
   "mimetype": "text/x-python",
   "name": "python",
   "nbconvert_exporter": "python",
   "pygments_lexer": "ipython3",
   "version": "3.10.11"
  }
 },
 "nbformat": 4,
 "nbformat_minor": 5
}
